{
 "cells": [
  {
   "cell_type": "markdown",
   "id": "0a65ed72",
   "metadata": {},
   "source": [
    "# **DDC-2: numpy array to pandas dataframe**\n",
    "Create a 10x4 matrix in numpy in which the first column contains the row index squared, and the other three columns contain normally distributed random numbers. Convert to a pandas dataframe in which the row labels are “A”, “B”, etc., and the column labels are “one”, “two”, etc. Your dataframe should look like this:\n",
    "<p align=\"center\">\n",
    "  <img src=\"images/img_ddc_02.png\" alt=\"np to pd\" width=\"400\">\n",
    "</p>"
   ]
  },
  {
   "cell_type": "code",
   "execution_count": 1,
   "id": "eb3c4381",
   "metadata": {},
   "outputs": [],
   "source": [
    "# Libs\n",
    "import pandas as pd\n",
    "import numpy as np\n",
    "import string"
   ]
  },
  {
   "cell_type": "code",
   "execution_count": null,
   "id": "4d61d7c0",
   "metadata": {},
   "outputs": [
    {
     "data": {
      "text/plain": [
       "(10, 4)"
      ]
     },
     "execution_count": 2,
     "metadata": {},
     "output_type": "execute_result"
    }
   ],
   "source": [
    "np_data = np.zeros((10,4))\n",
    "np_data.shape"
   ]
  },
  {
   "cell_type": "code",
   "execution_count": null,
   "id": "3e62a72d",
   "metadata": {},
   "outputs": [],
   "source": [
    "np_data[:,0]    = [ np.square(i) for i in range(np_data.shape[0]) ]\n",
    "np_data[:,1:]   = np.random.normal(size=(10,3))"
   ]
  },
  {
   "cell_type": "code",
   "execution_count": 16,
   "id": "fe2bee4e",
   "metadata": {},
   "outputs": [
    {
     "data": {
      "text/plain": [
       "['A', 'B', 'C', 'D', 'E', 'F', 'G', 'H', 'I', 'J']"
      ]
     },
     "execution_count": 16,
     "metadata": {},
     "output_type": "execute_result"
    }
   ],
   "source": [
    "index_vals = sorted(list(set(string.ascii_uppercase)))[:len(np_data)]\n",
    "index_vals"
   ]
  },
  {
   "cell_type": "code",
   "execution_count": null,
   "id": "7d93273a",
   "metadata": {},
   "outputs": [
    {
     "data": {
      "text/html": [
       "<div>\n",
       "<style scoped>\n",
       "    .dataframe tbody tr th:only-of-type {\n",
       "        vertical-align: middle;\n",
       "    }\n",
       "\n",
       "    .dataframe tbody tr th {\n",
       "        vertical-align: top;\n",
       "    }\n",
       "\n",
       "    .dataframe thead th {\n",
       "        text-align: right;\n",
       "    }\n",
       "</style>\n",
       "<table border=\"1\" class=\"dataframe\">\n",
       "  <thead>\n",
       "    <tr style=\"text-align: right;\">\n",
       "      <th></th>\n",
       "      <th>one</th>\n",
       "      <th>two</th>\n",
       "      <th>three</th>\n",
       "      <th>four</th>\n",
       "    </tr>\n",
       "  </thead>\n",
       "  <tbody>\n",
       "    <tr>\n",
       "      <th>A</th>\n",
       "      <td>0</td>\n",
       "      <td>-0.351688</td>\n",
       "      <td>0.659932</td>\n",
       "      <td>-0.232739</td>\n",
       "    </tr>\n",
       "    <tr>\n",
       "      <th>B</th>\n",
       "      <td>1</td>\n",
       "      <td>-0.126325</td>\n",
       "      <td>-1.222363</td>\n",
       "      <td>0.549403</td>\n",
       "    </tr>\n",
       "    <tr>\n",
       "      <th>C</th>\n",
       "      <td>4</td>\n",
       "      <td>1.773764</td>\n",
       "      <td>-0.731225</td>\n",
       "      <td>0.803944</td>\n",
       "    </tr>\n",
       "    <tr>\n",
       "      <th>D</th>\n",
       "      <td>9</td>\n",
       "      <td>0.219394</td>\n",
       "      <td>-0.060040</td>\n",
       "      <td>-1.172473</td>\n",
       "    </tr>\n",
       "    <tr>\n",
       "      <th>E</th>\n",
       "      <td>16</td>\n",
       "      <td>-1.938657</td>\n",
       "      <td>0.950529</td>\n",
       "      <td>1.077929</td>\n",
       "    </tr>\n",
       "    <tr>\n",
       "      <th>F</th>\n",
       "      <td>25</td>\n",
       "      <td>-2.138582</td>\n",
       "      <td>0.127077</td>\n",
       "      <td>-0.469816</td>\n",
       "    </tr>\n",
       "    <tr>\n",
       "      <th>G</th>\n",
       "      <td>36</td>\n",
       "      <td>-0.239188</td>\n",
       "      <td>0.403408</td>\n",
       "      <td>-0.162278</td>\n",
       "    </tr>\n",
       "    <tr>\n",
       "      <th>H</th>\n",
       "      <td>49</td>\n",
       "      <td>-1.989581</td>\n",
       "      <td>-0.476279</td>\n",
       "      <td>-0.201202</td>\n",
       "    </tr>\n",
       "    <tr>\n",
       "      <th>I</th>\n",
       "      <td>64</td>\n",
       "      <td>-1.098980</td>\n",
       "      <td>-0.720103</td>\n",
       "      <td>0.794026</td>\n",
       "    </tr>\n",
       "    <tr>\n",
       "      <th>J</th>\n",
       "      <td>81</td>\n",
       "      <td>0.979153</td>\n",
       "      <td>-0.294738</td>\n",
       "      <td>0.452494</td>\n",
       "    </tr>\n",
       "  </tbody>\n",
       "</table>\n",
       "</div>"
      ],
      "text/plain": [
       "   one       two     three      four\n",
       "A    0 -0.351688  0.659932 -0.232739\n",
       "B    1 -0.126325 -1.222363  0.549403\n",
       "C    4  1.773764 -0.731225  0.803944\n",
       "D    9  0.219394 -0.060040 -1.172473\n",
       "E   16 -1.938657  0.950529  1.077929\n",
       "F   25 -2.138582  0.127077 -0.469816\n",
       "G   36 -0.239188  0.403408 -0.162278\n",
       "H   49 -1.989581 -0.476279 -0.201202\n",
       "I   64 -1.098980 -0.720103  0.794026\n",
       "J   81  0.979153 -0.294738  0.452494"
      ]
     },
     "execution_count": 12,
     "metadata": {},
     "output_type": "execute_result"
    }
   ],
   "source": [
    "pd_data = pd.DataFrame(np_data, columns=[\"one\",\"two\",\"three\",\"four\"], index=index_vals)\n",
    "pd_data[\"one\"] = pd_data[\"one\"].astype(int)\n",
    "pd_data"
   ]
  }
 ],
 "metadata": {
  "kernelspec": {
   "display_name": "Python 3",
   "language": "python",
   "name": "python3"
  },
  "language_info": {
   "codemirror_mode": {
    "name": "ipython",
    "version": 3
   },
   "file_extension": ".py",
   "mimetype": "text/x-python",
   "name": "python",
   "nbconvert_exporter": "python",
   "pygments_lexer": "ipython3",
   "version": "3.12.6"
  }
 },
 "nbformat": 4,
 "nbformat_minor": 5
}
