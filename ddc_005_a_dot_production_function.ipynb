{
 "cells": [
  {
   "cell_type": "markdown",
   "id": "ccaecbc7",
   "metadata": {},
   "source": [
    "# **DDC-5: A dot production function**\n",
    "Write a Python function that calculates the dot product. Don’t use np.dot; instead, implement the calculation directly:\n",
    "$$\n",
    "\\alpha = \\sum_{i=1}^{n} v_i w_i\n",
    "$$\n",
    "Your Python function should take two inputs, both numpy arrays. Raise an exception (that is, have the function give an error) if either input is not a numpy array. Also give an error if the two variables have different lengths.\n",
    "\n",
    "Check your function’s accuracy against np.dot as in the screenshot below. Also confirm that the function produces errors if the vectors have unequal lengths or are lists instead of numpy arrays.\n",
    "\n",
    "<p align=\"center\">\n",
    "  <img src=\"images/img_ddc_005.png\" alt=\"005\" width=\"700\">\n",
    "</p>"
   ]
  },
  {
   "cell_type": "code",
   "execution_count": null,
   "id": "20558176",
   "metadata": {},
   "outputs": [],
   "source": [
    "# Libs\n",
    "\n",
    "import numpy as np"
   ]
  },
  {
   "cell_type": "code",
   "execution_count": null,
   "id": "f4764d47",
   "metadata": {},
   "outputs": [],
   "source": [
    "# the function\n",
    "\n",
    "def dotproduct(vec1,vec2):\n",
    "\n",
    "    if not len(vec1) == len(vec2):\n",
    "        raise Exception(\"Must be the same length\")\n",
    "    \n",
    "    if not isinstance(vec1,np.ndarray) and isinstance(vec2,np.ndarray):\n",
    "        raise Exception(\"Must be numpy array\")\n",
    "\n",
    "    # I added this line bc the function wasn't given an error if i change the input orders (If just one of them is not a numpy array)\n",
    "    if not isinstance(vec2,np.ndarray) and isinstance(vec1,np.ndarray): \n",
    "        raise Exception(\"Must be numpy array\")\n",
    "    \n",
    "    return sum(vec1*vec2)"
   ]
  },
  {
   "cell_type": "code",
   "execution_count": 15,
   "id": "0632ba42",
   "metadata": {},
   "outputs": [
    {
     "name": "stdout",
     "output_type": "stream",
     "text": [
      "30\n",
      "30\n"
     ]
    }
   ],
   "source": [
    "v = np.array([1,2,3,4])\n",
    "w = np.array([3,4,5,1])\n",
    "\n",
    "print(dotproduct(v,w))\n",
    "print(np.dot(v,w))"
   ]
  },
  {
   "cell_type": "code",
   "execution_count": 16,
   "id": "05e3b0b9",
   "metadata": {},
   "outputs": [
    {
     "ename": "Exception",
     "evalue": "Must be numpy array",
     "output_type": "error",
     "traceback": [
      "\u001b[31m---------------------------------------------------------------------------\u001b[39m",
      "\u001b[31mException\u001b[39m                                 Traceback (most recent call last)",
      "\u001b[36mCell\u001b[39m\u001b[36m \u001b[39m\u001b[32mIn[16]\u001b[39m\u001b[32m, line 3\u001b[39m\n\u001b[32m      1\u001b[39m a = [\u001b[32m3\u001b[39m,\u001b[32m4\u001b[39m,\u001b[32m5\u001b[39m,\u001b[32m1\u001b[39m]\n\u001b[32m----> \u001b[39m\u001b[32m3\u001b[39m \u001b[38;5;28mprint\u001b[39m(\u001b[43mdotproduct\u001b[49m\u001b[43m(\u001b[49m\u001b[43mv\u001b[49m\u001b[43m,\u001b[49m\u001b[43ma\u001b[49m\u001b[43m)\u001b[49m)\n",
      "\u001b[36mCell\u001b[39m\u001b[36m \u001b[39m\u001b[32mIn[14]\u001b[39m\u001b[32m, line 11\u001b[39m, in \u001b[36mdotproduct\u001b[39m\u001b[34m(vec1, vec2)\u001b[39m\n\u001b[32m      8\u001b[39m     \u001b[38;5;28;01mraise\u001b[39;00m \u001b[38;5;167;01mException\u001b[39;00m(\u001b[33m\"\u001b[39m\u001b[33mMust be numpy array\u001b[39m\u001b[33m\"\u001b[39m)\n\u001b[32m     10\u001b[39m \u001b[38;5;28;01mif\u001b[39;00m \u001b[38;5;129;01mnot\u001b[39;00m \u001b[38;5;28misinstance\u001b[39m(vec2,np.ndarray) \u001b[38;5;129;01mand\u001b[39;00m \u001b[38;5;28misinstance\u001b[39m(vec1,np.ndarray):\n\u001b[32m---> \u001b[39m\u001b[32m11\u001b[39m     \u001b[38;5;28;01mraise\u001b[39;00m \u001b[38;5;167;01mException\u001b[39;00m(\u001b[33m\"\u001b[39m\u001b[33mMust be numpy array\u001b[39m\u001b[33m\"\u001b[39m)\n\u001b[32m     13\u001b[39m \u001b[38;5;28;01mreturn\u001b[39;00m \u001b[38;5;28msum\u001b[39m(vec1*vec2)\n",
      "\u001b[31mException\u001b[39m: Must be numpy array"
     ]
    }
   ],
   "source": [
    "a = [3,4,5,1]\n",
    "\n",
    "print(dotproduct(v,a))"
   ]
  },
  {
   "cell_type": "code",
   "execution_count": 17,
   "id": "46b7978e",
   "metadata": {},
   "outputs": [
    {
     "ename": "Exception",
     "evalue": "Must be numpy array",
     "output_type": "error",
     "traceback": [
      "\u001b[31m---------------------------------------------------------------------------\u001b[39m",
      "\u001b[31mException\u001b[39m                                 Traceback (most recent call last)",
      "\u001b[36mCell\u001b[39m\u001b[36m \u001b[39m\u001b[32mIn[17]\u001b[39m\u001b[32m, line 1\u001b[39m\n\u001b[32m----> \u001b[39m\u001b[32m1\u001b[39m \u001b[38;5;28mprint\u001b[39m(\u001b[43mdotproduct\u001b[49m\u001b[43m(\u001b[49m\u001b[43ma\u001b[49m\u001b[43m,\u001b[49m\u001b[43mv\u001b[49m\u001b[43m)\u001b[49m)\n",
      "\u001b[36mCell\u001b[39m\u001b[36m \u001b[39m\u001b[32mIn[14]\u001b[39m\u001b[32m, line 8\u001b[39m, in \u001b[36mdotproduct\u001b[39m\u001b[34m(vec1, vec2)\u001b[39m\n\u001b[32m      5\u001b[39m     \u001b[38;5;28;01mraise\u001b[39;00m \u001b[38;5;167;01mException\u001b[39;00m(\u001b[33m\"\u001b[39m\u001b[33mMust be the same length\u001b[39m\u001b[33m\"\u001b[39m)\n\u001b[32m      7\u001b[39m \u001b[38;5;28;01mif\u001b[39;00m \u001b[38;5;129;01mnot\u001b[39;00m \u001b[38;5;28misinstance\u001b[39m(vec1,np.ndarray) \u001b[38;5;129;01mand\u001b[39;00m \u001b[38;5;28misinstance\u001b[39m(vec2,np.ndarray):\n\u001b[32m----> \u001b[39m\u001b[32m8\u001b[39m     \u001b[38;5;28;01mraise\u001b[39;00m \u001b[38;5;167;01mException\u001b[39;00m(\u001b[33m\"\u001b[39m\u001b[33mMust be numpy array\u001b[39m\u001b[33m\"\u001b[39m)\n\u001b[32m     10\u001b[39m \u001b[38;5;28;01mif\u001b[39;00m \u001b[38;5;129;01mnot\u001b[39;00m \u001b[38;5;28misinstance\u001b[39m(vec2,np.ndarray) \u001b[38;5;129;01mand\u001b[39;00m \u001b[38;5;28misinstance\u001b[39m(vec1,np.ndarray):\n\u001b[32m     11\u001b[39m     \u001b[38;5;28;01mraise\u001b[39;00m \u001b[38;5;167;01mException\u001b[39;00m(\u001b[33m\"\u001b[39m\u001b[33mMust be numpy array\u001b[39m\u001b[33m\"\u001b[39m)\n",
      "\u001b[31mException\u001b[39m: Must be numpy array"
     ]
    }
   ],
   "source": [
    "print(dotproduct(a,v))"
   ]
  },
  {
   "cell_type": "code",
   "execution_count": null,
   "id": "bcfa658e",
   "metadata": {},
   "outputs": [
    {
     "ename": "Exception",
     "evalue": "Must be the same length",
     "output_type": "error",
     "traceback": [
      "\u001b[31m---------------------------------------------------------------------------\u001b[39m",
      "\u001b[31mException\u001b[39m                                 Traceback (most recent call last)",
      "\u001b[36mCell\u001b[39m\u001b[36m \u001b[39m\u001b[32mIn[6]\u001b[39m\u001b[32m, line 2\u001b[39m\n\u001b[32m      1\u001b[39m b = np.array([\u001b[32m1\u001b[39m,\u001b[32m2\u001b[39m,\u001b[32m3\u001b[39m,\u001b[32m4\u001b[39m,\u001b[32m5\u001b[39m,\u001b[32m6\u001b[39m])\n\u001b[32m----> \u001b[39m\u001b[32m2\u001b[39m \u001b[38;5;28mprint\u001b[39m(\u001b[43mdotproduct\u001b[49m\u001b[43m(\u001b[49m\u001b[43mw\u001b[49m\u001b[43m,\u001b[49m\u001b[43mb\u001b[49m\u001b[43m)\u001b[49m) \n",
      "\u001b[36mCell\u001b[39m\u001b[36m \u001b[39m\u001b[32mIn[2]\u001b[39m\u001b[32m, line 5\u001b[39m, in \u001b[36mdotproduct\u001b[39m\u001b[34m(vec1, vec2)\u001b[39m\n\u001b[32m      2\u001b[39m \u001b[38;5;28;01mdef\u001b[39;00m\u001b[38;5;250m \u001b[39m\u001b[34mdotproduct\u001b[39m(vec1,vec2):\n\u001b[32m      4\u001b[39m     \u001b[38;5;28;01mif\u001b[39;00m \u001b[38;5;129;01mnot\u001b[39;00m \u001b[38;5;28mlen\u001b[39m(vec1) == \u001b[38;5;28mlen\u001b[39m(vec2):\n\u001b[32m----> \u001b[39m\u001b[32m5\u001b[39m         \u001b[38;5;28;01mraise\u001b[39;00m \u001b[38;5;167;01mException\u001b[39;00m(\u001b[33m\"\u001b[39m\u001b[33mMust be the same length\u001b[39m\u001b[33m\"\u001b[39m)\n\u001b[32m      7\u001b[39m     \u001b[38;5;28;01mif\u001b[39;00m \u001b[38;5;129;01mnot\u001b[39;00m \u001b[38;5;28misinstance\u001b[39m(vec1,np.ndarray) \u001b[38;5;129;01mand\u001b[39;00m \u001b[38;5;28misinstance\u001b[39m(vec2,np.ndarray):\n\u001b[32m      8\u001b[39m         \u001b[38;5;28;01mraise\u001b[39;00m \u001b[38;5;167;01mException\u001b[39;00m(\u001b[33m\"\u001b[39m\u001b[33mMust be numpy array\u001b[39m\u001b[33m\"\u001b[39m)\n",
      "\u001b[31mException\u001b[39m: Must be the same length"
     ]
    }
   ],
   "source": [
    "b = np.array([1,2,3,4,5,6])\n",
    "\n",
    "print(dotproduct(w,b)) "
   ]
  }
 ],
 "metadata": {
  "kernelspec": {
   "display_name": "Python 3",
   "language": "python",
   "name": "python3"
  },
  "language_info": {
   "codemirror_mode": {
    "name": "ipython",
    "version": 3
   },
   "file_extension": ".py",
   "mimetype": "text/x-python",
   "name": "python",
   "nbconvert_exporter": "python",
   "pygments_lexer": "ipython3",
   "version": "3.12.6"
  }
 },
 "nbformat": 4,
 "nbformat_minor": 5
}
