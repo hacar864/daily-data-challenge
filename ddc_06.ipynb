{
 "cells": [
  {
   "cell_type": "markdown",
   "id": "41d3fc7d",
   "metadata": {},
   "source": [
    "# **DDC-6: A Poisson counter**\n",
    "A Poisson random variable is the number of iterations it takes for a randomly decreasing number to be smaller than a target value. It is used in physics and computational biology to estimate the duration of different events.\n",
    "\n",
    "**Part 1.** Write a Python function that calculates a Poisson random number. Translate the following algorithm into code.\n",
    "\n",
    "1. Initialize a counter to zero.\n",
    "\n",
    "2. Initialize a “current value” numerical variable to 1.\n",
    "\n",
    "3. Initialize a target variable as exp(-λ) (λ is a parameter).\n",
    "\n",
    "4. In a while-loop, generate a random number from a standard uniform distribution (that is, equal probability of a number between 0 and 1) and scale that by the current-value variable. Increment the counter by 1.\n",
    "\n",
    "5. Remain in the while-loop until the current-value is less than the target.\n",
    "\n",
    "6. Return the counter value. This is the random Poisson variable.\n",
    "\n",
    "Check your code using λ=10. The result will be an integer that will differ each time you call the function, but the counter should be close to 10.\n",
    "\n",
    "**Part 2.** Call the function 500 times using λ=10, and show a bar plot of the distribution of random Poisson variables. An interesting feature of a Poisson distribution is that the mean and variance equal each other, which also equals λ. In finite sample sizes, the mean and variance won’t equal exactly λ, but it should be fairly close.\n",
    "<p align=\"center\">\n",
    "  <img src=\"images/img_ddc_06.png\" alt=\"06\" width=\"700\">\n",
    "</p>"
   ]
  },
  {
   "cell_type": "code",
   "execution_count": 53,
   "id": "370ea9ba",
   "metadata": {},
   "outputs": [],
   "source": [
    "# Libs\n",
    "import numpy as np\n",
    "import matplotlib.pyplot as plt\n",
    "\n",
    "plt.style.use(\"dark_background\")"
   ]
  },
  {
   "cell_type": "code",
   "execution_count": 80,
   "id": "6914ea04",
   "metadata": {},
   "outputs": [
    {
     "data": {
      "text/plain": [
       "17"
      ]
     },
     "execution_count": 80,
     "metadata": {},
     "output_type": "execute_result"
    }
   ],
   "source": [
    "# Part 1\n",
    "\n",
    "def poission_random_number_generator(lam):\n",
    "    \n",
    "    counter = 0\n",
    "    current_val = 1\n",
    "    target_val = np.exp(-lam)\n",
    "\n",
    "    while current_val > target_val:\n",
    "        current_val *= np.random.rand()\n",
    "        counter += 1\n",
    "    \n",
    "    return counter\n",
    "\n",
    "poission_random_number_generator(10)"
   ]
  },
  {
   "cell_type": "code",
   "execution_count": 83,
   "id": "4513ac45",
   "metadata": {},
   "outputs": [
    {
     "data": {
      "image/png": "[encoded data removed]",
      "text/plain": [
       "<Figure size 1000x400 with 1 Axes>"
      ]
     },
     "metadata": {},
     "output_type": "display_data"
    }
   ],
   "source": [
    "# Part 2\n",
    "\n",
    "lam = 10\n",
    "n = 500\n",
    "\n",
    "vals = np.zeros(n,dtype=int)\n",
    "\n",
    "for i in range(n):\n",
    "    vals[i] = poission_random_number_generator(lam)\n",
    "\n",
    "uniq,counts = np.unique(vals, return_counts=True)\n",
    "\n",
    "plt.figure(figsize=(10,4))\n",
    "plt.bar(uniq,counts)\n",
    "plt.gca().set(xlabel=\"Value\",ylabel=\"Count\",xticks=range(0,max(uniq)+1))\n",
    "plt.tight_layout()\n",
    "plt.show()"
   ]
  }
 ],
 "metadata": {
  "kernelspec": {
   "display_name": "Python 3",
   "language": "python",
   "name": "python3"
  },
  "language_info": {
   "codemirror_mode": {
    "name": "ipython",
    "version": 3
   },
   "file_extension": ".py",
   "mimetype": "text/x-python",
   "name": "python",
   "nbconvert_exporter": "python",
   "pygments_lexer": "ipython3",
   "version": "3.12.6"
  }
 },
 "nbformat": 4,
 "nbformat_minor": 5
}
