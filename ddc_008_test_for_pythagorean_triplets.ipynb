{
 "cells": [
  {
   "cell_type": "markdown",
   "id": "e403a446",
   "metadata": {},
   "source": [
    "# **DDC-8: Test for Pythagorean triplets**\n",
    "A Pythagorean triplet is a set of three numbers for which the following is true:\n",
    "$$a^2 + b^2 = c^2$$\n",
    "That comes from the length of the hypotenuse of a right-triangle, but you don’t need to worry about geometry here. Instead, your goal is to write a Python function that gets three numbers from the user (using the input() function) and then tests whether the squared largest of the numbers equals the sum of squares of the other two.\n",
    "\n",
    "The first screenshot below shows the function mid-run, awaiting the third input. And the second one is the final result for this run:\n",
    "\n",
    "<p align=\"center\">\n",
    "  <img src=\"images/img_ddc_008_1.png\" alt=\"008_1\" width=\"45%\">\n",
    "  <img src=\"images/img_ddc_008_2.png\" alt=\"008_2\" width=\"45%\">\n",
    "</p>"
   ]
  },
  {
   "cell_type": "code",
   "execution_count": 38,
   "id": "e73942ac",
   "metadata": {},
   "outputs": [
    {
     "name": "stdout",
     "output_type": "stream",
     "text": [
      "Selected numbers: [1, 2, 3]\n",
      "This is not a Pythagorean triplet\n"
     ]
    }
   ],
   "source": [
    "def are_these_pythagorean_triples():\n",
    "\n",
    "    numbs = [ int(input(f\"Number {i+1}\")) for i in range(3) ]\n",
    "    print(f\"Selected numbers: {numbs}\")\n",
    "\n",
    "    numbs = [ i**2 for i in numbs]\n",
    "    numbs.sort()\n",
    "\n",
    "    if numbs[-1] == sum(numbs[:-1]):\n",
    "        print(\"This is a Pythagorean triplet |:)\")\n",
    "    else:\n",
    "        print(\"This is not a Pythagorean triplet\")\n",
    "\n",
    "are_these_pythagorean_triples()"
   ]
  }
 ],
 "metadata": {
  "kernelspec": {
   "display_name": "Python 3",
   "language": "python",
   "name": "python3"
  },
  "language_info": {
   "codemirror_mode": {
    "name": "ipython",
    "version": 3
   },
   "file_extension": ".py",
   "mimetype": "text/x-python",
   "name": "python",
   "nbconvert_exporter": "python",
   "pygments_lexer": "ipython3",
   "version": "3.12.6"
  }
 },
 "nbformat": 4,
 "nbformat_minor": 5
}
