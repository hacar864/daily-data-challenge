{
 "cells": [
  {
   "cell_type": "markdown",
   "id": "e0e0ebbe",
   "metadata": {},
   "source": [
    "# **DDC-1: Violin plot**\n",
    "Generate the following violin plot. The two datasets are normally distributed random numbers with a mean and standard deviation of 0 and 1 (data “1”), and 2 and 2 (data “2”). 100 samples per group.\n",
    "<p align=\"center\">\n",
    "  <img src=\"images/ddc_01.png\" alt=\"Violin plot\" width=\"400\">\n",
    "</p>\n",
    "\n"
   ]
  },
  {
   "cell_type": "code",
   "execution_count": 1,
   "id": "c663c42e",
   "metadata": {},
   "outputs": [],
   "source": [
    "# Libs\n",
    "import numpy as np\n",
    "import matplotlib.pyplot as plt"
   ]
  },
  {
   "cell_type": "code",
   "execution_count": 31,
   "id": "1e4fbace",
   "metadata": {},
   "outputs": [
    {
     "name": "stdout",
     "output_type": "stream",
     "text": [
      "(100,)\n",
      "(100,)\n"
     ]
    }
   ],
   "source": [
    "n = 100\n",
    "\n",
    "data_1 = np.random.normal(loc=0,scale=1,size=n)\n",
    "data_2 = np.random.normal(loc=2,scale=2,size=n)\n",
    "\n",
    "print(data_1.shape)\n",
    "print(data_2.shape)"
   ]
  },
  {
   "cell_type": "code",
   "execution_count": 32,
   "id": "97223206",
   "metadata": {},
   "outputs": [
    {
     "name": "stdout",
     "output_type": "stream",
     "text": [
      "\u001b[31mSignature:\u001b[39m\n",
      "plt.violinplot(\n",
      "    dataset: \u001b[33m'ArrayLike | Sequence[ArrayLike]'\u001b[39m,\n",
      "    positions: \u001b[33m'ArrayLike | None'\u001b[39m = \u001b[38;5;28;01mNone\u001b[39;00m,\n",
      "    *,\n",
      "    vert: \u001b[33m'bool | None'\u001b[39m = \u001b[38;5;28;01mNone\u001b[39;00m,\n",
      "    orientation: \u001b[33m\"Literal['vertical', 'horizontal']\"\u001b[39m = \u001b[33m'vertical'\u001b[39m,\n",
      "    widths: \u001b[33m'float | ArrayLike'\u001b[39m = \u001b[32m0.5\u001b[39m,\n",
      "    showmeans: \u001b[33m'bool'\u001b[39m = \u001b[38;5;28;01mFalse\u001b[39;00m,\n",
      "    showextrema: \u001b[33m'bool'\u001b[39m = \u001b[38;5;28;01mTrue\u001b[39;00m,\n",
      "    showmedians: \u001b[33m'bool'\u001b[39m = \u001b[38;5;28;01mFalse\u001b[39;00m,\n",
      "    quantiles: \u001b[33m'Sequence[float | Sequence[float]] | None'\u001b[39m = \u001b[38;5;28;01mNone\u001b[39;00m,\n",
      "    points: \u001b[33m'int'\u001b[39m = \u001b[32m100\u001b[39m,\n",
      "    bw_method: \u001b[33m\"Literal['scott', 'silverman'] | float | Callable[[GaussianKDE], float] | None\"\u001b[39m = \u001b[38;5;28;01mNone\u001b[39;00m,\n",
      "    side: \u001b[33m\"Literal['both', 'low', 'high']\"\u001b[39m = \u001b[33m'both'\u001b[39m,\n",
      "    data=\u001b[38;5;28;01mNone\u001b[39;00m,\n",
      ") -> \u001b[33m'dict[str, Collection]'\u001b[39m\n",
      "\u001b[31mDocstring:\u001b[39m\n",
      "Make a violin plot.\n",
      "\n",
      "Make a violin plot for each column of *dataset* or each vector in\n",
      "sequence *dataset*.  Each filled area extends to represent the\n",
      "entire data range, with optional lines at the mean, the median,\n",
      "the minimum, the maximum, and user-specified quantiles.\n",
      "\n",
      "Parameters\n",
      "----------\n",
      "dataset : Array or a sequence of vectors.\n",
      "    The input data.\n",
      "\n",
      "positions : array-like, default: [1, 2, ..., n]\n",
      "    The positions of the violins; i.e. coordinates on the x-axis for\n",
      "    vertical violins (or y-axis for horizontal violins).\n",
      "\n",
      "vert : bool, optional\n",
      "    .. deprecated:: 3.10\n",
      "        Use *orientation* instead.\n",
      "\n",
      "        If this is given during the deprecation period, it overrides\n",
      "        the *orientation* parameter.\n",
      "\n",
      "    If True, plots the violins vertically.\n",
      "    If False, plots the violins horizontally.\n",
      "\n",
      "orientation : {'vertical', 'horizontal'}, default: 'vertical'\n",
      "    If 'horizontal', plots the violins horizontally.\n",
      "    Otherwise, plots the violins vertically.\n",
      "\n",
      "    .. versionadded:: 3.10\n",
      "\n",
      "widths : float or array-like, default: 0.5\n",
      "    The maximum width of each violin in units of the *positions* axis.\n",
      "    The default is 0.5, which is half the available space when using default\n",
      "    *positions*.\n",
      "\n",
      "showmeans : bool, default: False\n",
      "    Whether to show the mean with a line.\n",
      "\n",
      "showextrema : bool, default: True\n",
      "    Whether to show extrema with a line.\n",
      "\n",
      "showmedians : bool, default: False\n",
      "    Whether to show the median with a line.\n",
      "\n",
      "quantiles : array-like, default: None\n",
      "    If not None, set a list of floats in interval [0, 1] for each violin,\n",
      "    which stands for the quantiles that will be rendered for that\n",
      "    violin.\n",
      "\n",
      "points : int, default: 100\n",
      "    The number of points to evaluate each of the gaussian kernel density\n",
      "    estimations at.\n",
      "\n",
      "bw_method : {'scott', 'silverman'} or float or callable, default: 'scott'\n",
      "    The method used to calculate the estimator bandwidth.  If a\n",
      "    float, this will be used directly as `kde.factor`.  If a\n",
      "    callable, it should take a `matplotlib.mlab.GaussianKDE` instance as\n",
      "    its only parameter and return a float.\n",
      "\n",
      "side : {'both', 'low', 'high'}, default: 'both'\n",
      "    'both' plots standard violins. 'low'/'high' only\n",
      "    plots the side below/above the positions value.\n",
      "\n",
      "data : indexable object, optional\n",
      "    If given, the following parameters also accept a string ``s``, which is\n",
      "    interpreted as ``data[s]`` if ``s`` is a key in ``data``:\n",
      "\n",
      "    *dataset*\n",
      "\n",
      "Returns\n",
      "-------\n",
      "dict\n",
      "    A dictionary mapping each component of the violinplot to a\n",
      "    list of the corresponding collection instances created. The\n",
      "    dictionary has the following keys:\n",
      "\n",
      "    - ``bodies``: A list of the `~.collections.PolyCollection`\n",
      "      instances containing the filled area of each violin.\n",
      "\n",
      "    - ``cmeans``: A `~.collections.LineCollection` instance that marks\n",
      "      the mean values of each of the violin's distribution.\n",
      "\n",
      "    - ``cmins``: A `~.collections.LineCollection` instance that marks\n",
      "      the bottom of each violin's distribution.\n",
      "\n",
      "    - ``cmaxes``: A `~.collections.LineCollection` instance that marks\n",
      "      the top of each violin's distribution.\n",
      "\n",
      "    - ``cbars``: A `~.collections.LineCollection` instance that marks\n",
      "      the centers of each violin's distribution.\n",
      "\n",
      "    - ``cmedians``: A `~.collections.LineCollection` instance that\n",
      "      marks the median values of each of the violin's distribution.\n",
      "\n",
      "    - ``cquantiles``: A `~.collections.LineCollection` instance created\n",
      "      to identify the quantile values of each of the violin's\n",
      "      distribution.\n",
      "\n",
      "See Also\n",
      "--------\n",
      ".Axes.violin : Draw a violin from pre-computed statistics.\n",
      "boxplot : Draw a box and whisker plot.\n",
      "\n",
      "Notes\n",
      "-----\n",
      "\n",
      ".. note::\n",
      "\n",
      "    This is the :ref:`pyplot wrapper <pyplot_interface>` for `.axes.Axes.violinplot`.\n",
      "\u001b[31mFile:\u001b[39m      c:\\users\\lenovo\\appdata\\local\\programs\\python\\python312\\lib\\site-packages\\matplotlib\\pyplot.py\n",
      "\u001b[31mType:\u001b[39m      function"
     ]
    }
   ],
   "source": [
    "?plt.violinplot"
   ]
  },
  {
   "cell_type": "code",
   "execution_count": 33,
   "id": "4fb0999d",
   "metadata": {},
   "outputs": [
    {
     "data": {
      "image/png": "[encoded data removed]",
      "text/plain": [
       "<Figure size 800x500 with 1 Axes>"
      ]
     },
     "metadata": {},
     "output_type": "display_data"
    }
   ],
   "source": [
    "plt.figure(figsize=(8,5))\n",
    "\n",
    "plt.violinplot(data_1,[1])\n",
    "plt.violinplot(data_2,[2])\n",
    "\n",
    "plt.gca().set(xticks=range(1,3),ylabel=\"Value\",title=\"Violin Plot\")\n",
    "plt.tight_layout()\n",
    "plt.show()"
   ]
  }
 ],
 "metadata": {
  "kernelspec": {
   "display_name": "Python 3",
   "language": "python",
   "name": "python3"
  },
  "language_info": {
   "codemirror_mode": {
    "name": "ipython",
    "version": 3
   },
   "file_extension": ".py",
   "mimetype": "text/x-python",
   "name": "python",
   "nbconvert_exporter": "python",
   "pygments_lexer": "ipython3",
   "version": "3.12.6"
  }
 },
 "nbformat": 4,
 "nbformat_minor": 5
}
