{
 "cells": [
  {
   "cell_type": "markdown",
   "id": "dbfa21be",
   "metadata": {},
   "source": [
    "# **DDC-7: Count the 7's**\n",
    "Write code that counts the number of times “7” appears in the following list:\n",
    "\n",
    "alist = [ 1,3,7,5,7,9,2,7,4,7,6,8 ]\n",
    "\n",
    "Come up with two solutions, one using a method on a list object, and one using list comprehension."
   ]
  },
  {
   "cell_type": "code",
   "execution_count": 1,
   "id": "0b3ed305",
   "metadata": {},
   "outputs": [
    {
     "data": {
      "text/plain": [
       "12"
      ]
     },
     "execution_count": 1,
     "metadata": {},
     "output_type": "execute_result"
    }
   ],
   "source": [
    "alist = [ 1,3,7,5,7,9,2,7,4,7,6,8 ]\n",
    "len(alist)"
   ]
  },
  {
   "cell_type": "code",
   "execution_count": 10,
   "id": "5f2ed780",
   "metadata": {},
   "outputs": [
    {
     "name": "stdout",
     "output_type": "stream",
     "text": [
      "4\n",
      "4\n"
     ]
    }
   ],
   "source": [
    "# with method\n",
    "print(alist.count(7))\n",
    "\n",
    "# with list comp\n",
    "print( len([ i for i in alist if i==7 ]) )"
   ]
  }
 ],
 "metadata": {
  "kernelspec": {
   "display_name": "Python 3",
   "language": "python",
   "name": "python3"
  },
  "language_info": {
   "codemirror_mode": {
    "name": "ipython",
    "version": 3
   },
   "file_extension": ".py",
   "mimetype": "text/x-python",
   "name": "python",
   "nbconvert_exporter": "python",
   "pygments_lexer": "ipython3",
   "version": "3.12.6"
  }
 },
 "nbformat": 4,
 "nbformat_minor": 5
}
